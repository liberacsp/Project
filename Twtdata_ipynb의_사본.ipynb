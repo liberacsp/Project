{
  "nbformat": 4,
  "nbformat_minor": 0,
  "metadata": {
    "colab": {
      "name": "Twtdata.ipynb의 사본",
      "provenance": [],
      "authorship_tag": "ABX9TyOtPPvXui6Ro1ID3W2BAMdH",
      "include_colab_link": true
    },
    "kernelspec": {
      "name": "python3",
      "display_name": "Python 3"
    },
    "language_info": {
      "name": "python"
    }
  },
  "cells": [
    {
      "cell_type": "markdown",
      "metadata": {
        "id": "view-in-github",
        "colab_type": "text"
      },
      "source": [
        "<a href=\"https://colab.research.google.com/github/liberacsp/Project/blob/main/Twtdata_ipynb%EC%9D%98_%EC%82%AC%EB%B3%B8.ipynb\" target=\"_parent\"><img src=\"https://colab.research.google.com/assets/colab-badge.svg\" alt=\"Open In Colab\"/></a>"
      ]
    },
    {
      "cell_type": "code",
      "execution_count": null,
      "metadata": {
        "colab": {
          "base_uri": "https://localhost:8080/"
        },
        "id": "U_tjEkYGCvj3",
        "outputId": "5b32249a-1c7e-4e62-cb30-2ec6f8b579bf"
      },
      "outputs": [
        {
          "output_type": "stream",
          "name": "stdout",
          "text": [
            "Requirement already satisfied: tweepy in /usr/local/lib/python3.7/dist-packages (3.10.0)\n",
            "Requirement already satisfied: requests-oauthlib>=0.7.0 in /usr/local/lib/python3.7/dist-packages (from tweepy) (1.3.0)\n",
            "Requirement already satisfied: requests[socks]>=2.11.1 in /usr/local/lib/python3.7/dist-packages (from tweepy) (2.23.0)\n",
            "Requirement already satisfied: six>=1.10.0 in /usr/local/lib/python3.7/dist-packages (from tweepy) (1.15.0)\n",
            "Requirement already satisfied: oauthlib>=3.0.0 in /usr/local/lib/python3.7/dist-packages (from requests-oauthlib>=0.7.0->tweepy) (3.1.1)\n",
            "Requirement already satisfied: urllib3!=1.25.0,!=1.25.1,<1.26,>=1.21.1 in /usr/local/lib/python3.7/dist-packages (from requests[socks]>=2.11.1->tweepy) (1.24.3)\n",
            "Requirement already satisfied: idna<3,>=2.5 in /usr/local/lib/python3.7/dist-packages (from requests[socks]>=2.11.1->tweepy) (2.10)\n",
            "Requirement already satisfied: chardet<4,>=3.0.2 in /usr/local/lib/python3.7/dist-packages (from requests[socks]>=2.11.1->tweepy) (3.0.4)\n",
            "Requirement already satisfied: certifi>=2017.4.17 in /usr/local/lib/python3.7/dist-packages (from requests[socks]>=2.11.1->tweepy) (2021.10.8)\n",
            "Requirement already satisfied: PySocks!=1.5.7,>=1.5.6 in /usr/local/lib/python3.7/dist-packages (from requests[socks]>=2.11.1->tweepy) (1.7.1)\n"
          ]
        }
      ],
      "source": [
        "pip install tweepy"
      ]
    },
    {
      "cell_type": "code",
      "source": [
        "import tweepy as tw\n",
        "\n",
        "consumer_key= 'xxx'\n",
        "consumer_secret= 'xxx'\n",
        "access_token= 'xxx'\n",
        "access_token_secret= 'xxx'\n",
        "\n",
        "auth = tw.OAuthHandler(consumer_key, consumer_secret)\n",
        "auth.set_access_token(access_token, access_token_secret)\n",
        "api = tw.API(auth, wait_on_rate_limit=True)"
      ],
      "metadata": {
        "id": "toOGrM9rC2qV"
      },
      "execution_count": null,
      "outputs": []
    },
    {
      "cell_type": "code",
      "source": [
        "# 우리가 가져오고 싶은 유저의 트위터 이름\n",
        "name = \"elonmusk\"\n",
        "\n",
        "# 가져오고 싶은 트윗의 개수\n",
        "tweetCount = 100\n",
        "\n",
        "results = api.user_timeline(id=name, count=tweetCount)\n",
        "\n",
        "for tweet in results:\n",
        "   print(tweet.text)\n"
      ],
      "metadata": {
        "colab": {
          "base_uri": "https://localhost:8080/"
        },
        "id": "XoCUf6WDEJ1t",
        "outputId": "1b07262d-0438-4f56-e1a8-da6ae399f9b5"
      },
      "execution_count": null,
      "outputs": [
        {
          "output_type": "stream",
          "name": "stdout",
          "text": [
            "@BLKMDL3 @Tesla 🔥\n",
            "@MiFSDBetaTester @WholeMarsBlog 🤣\n",
            "@TheBabylonBee 🤣\n",
            "@roshanpateI 🤣 $7\n",
            "@tesla_raj Many UI improvements coming\n",
            "@CSmithson80 @heydave7 @BLKMDL3 @mims This chart is a big deal\n",
            "@BLKMDL3 @mims Predicting macroeconomics is challenging, to say the least. My gut feel is maybe around spring or su… https://t.co/nBqZB9gsAy\n",
            "@mims If history is any guide, not many will make it past the next recession\n",
            "@waitbutwhy 💯🙏\n",
            "@T_Ball5 Probably not wrong\n",
            "@heydave7 🤔\n",
            "https://t.co/OCUqr6xd9d\n",
            "https://t.co/mVhCpxVPZI\n",
            "@PPathole I do\n",
            "@GailAlfarATX @SawyerMerritt Wow, working on this problem has soaked up a lot of my time &amp; brain cycles over the pa… https://t.co/vPDW3GYGUp\n",
            "@SawyerMerritt Ashok was the first person recruited from my tweet saying that Tesla is starting an Autopilot team!\n",
            "@esprit_tesla @chazman @lexfridman Yes\n",
            "@risermaker @engineers_feed ~700nm to ~400nm\n",
            "@SirineAti @engineers_feed FAA approval is the schedule driver. Their latest update says end of February.\n",
            "Lex asks great questions https://t.co/TlyuEGoOVA\n",
            "@cleantechnica Most people still have no idea that sustainable energy generation is growing so fast\n",
            "@SpaceXMR 🤣\n",
            "@engineers_feed The resolution of the universe is not smaller than Planck length\n",
            "https://t.co/hoyZR4d0pP\n",
            "@karpathy All of reality can be simulated with ones &amp; zeroes\n",
            "@lexfridman Yeah, the smarter someone is, the harder it is to simulate/predict their behavior\n",
            "@BillyM2k Now that the Webb telescope has been launched, they will have to spend more on rendering haha\n",
            "@BillyM2k It is simulations all the way down, until you get to one bit\n",
            "@PPathole People are able to break any laws made by humans, but none made by physics\n",
            "Physics formulas are the rendering rules\n",
            "So much of AI is about compressing reality to a small vector space, like a video game in reverse\n",
            "@stats_feed @engineers_feed Useful mass to orbit is what matters\n",
            "@nichegamer 🤣\n",
            "@DimaZeniuk @klwtts @TeslaClubNorway @WholeMarsBlog @SawyerMerritt @1stMarsColonist @daelmor @Kristennetten… https://t.co/eFo3HD86vs\n",
            "https://t.co/Scr3Ub3tgT\n",
            "@archillect Now $1.25\n",
            "@NASA @NASAWebb Congratulations, this is major!\n",
            "@WorldAndScience Me 💯\n",
            "Floki Santa https://t.co/y3CTq16bGi\n",
            "Merry Christmas 🎄🎁 ⛄️ ⭐️ 😃\n",
            "@JonErlichman Or Tesla!\n",
            "Interesting\n",
            "https://t.co/548FHpnnxU\n",
            "@nichegamer It’s good\n",
            "@PPathole @Tesla That was a crazy tough year. Tesla financing closed at 6pm Christmas Eve – last hour of the last d… https://t.co/rwM2zi1XfJ\n",
            "@cyantist It was a shamefully low blow from WSJ\n",
            "RT @Tesla: Complete list of features here. Happy holidays! → https://t.co/7DhUW0KUgO\n",
            "@WholeMarsBlog And many other things\n",
            "@davidjkon @Tesmanian_com No, that’s some tool with senior editor privileges who keeps putting that there\n",
            "@Tesmanian_com “History is written by the victors” except on Wikipedia, as your enemies are still alive &amp; have lots… https://t.co/2qmEDsVWxu\n",
            "@Tesmanian_com My wiki is such a dumpster fire 🤣🤣. That’s how you know it isn’t curated.\n",
            "@GerberKawasaki A lot will be added\n",
            "Tesla holiday software update goes to wide release today!\n",
            "@WholeMarsBlog Tesla is technically a car like an iPhone is technically a phone\n",
            "10.8 looks good, rolling out today\n",
            "@BLKMDL3 Good idea\n",
            "@BillyM2k @jack @gladstein @rahilla @farokh @samkazemian @TheSmarmyBum @ethereum That’s why I’m pro Doge\n",
            "The @SkepticsGuide book is 👍\n",
            "Lots of Tesla cars to deliver before year end! Your support in taking delivery is much appreciated. \n",
            "\n",
            "Thanks also t… https://t.co/66GNmieWk1\n",
            "@scottwww @realrobcopeland Yeah, I didn’t have a house in the Bay Area for over a decade, despite spending half the week there\n",
            "Whereas radar has trouble seeing small pedestrians, they’re obvious to Tesla vision https://t.co/ANUy58lgl7\n",
            "@nurodev Disney restricted us to US only\n",
            "@JeffTutorials Yes, but if we find unexpected bugs, release might be delayed until 24th\n",
            "@WillFealey Yes\n",
            "Tesla holiday software release being tested with internal owners today. Broader rollout starts tomorrow evening.\n",
            "@WholeMarsBlog We’re aiming for a significant improvement for owners outside the US around March, depending on regulatory approvals\n",
            "@Gfilche It’s a great whistle!\n",
            "@Tesmanian_com When the 10b preprogrammed sales complete. There are still a few tranches left, but almost done.\n",
            "@BillyM2k @daelmor @DanCrenshawTX 💯\n",
            "@WholeMarsBlog This assumes completion of the 10b sales\n",
            "@cleantechnica Pure vision, especially when using explicit photon count, is much better than radar+vision, as the l… https://t.co/Arw5elci2b\n",
            "@nichegamer 🤣\n",
            "@teslatidbits @WholeMarsBlog @DanCrenshawTX A strong bias towards consumption tax makes sense\n",
            "@daelmor @BillyM2k @DanCrenshawTX 🤣 People who don’t create products &amp; services don’t realize that it takes hard wo… https://t.co/8Nn5dueFGr\n",
            "@DanCrenshawTX Agreed. Taxes do need to be collected, but what is the best way to do this that maximizes area under… https://t.co/l07gnUg54k\n",
            "@harald_murphy @SpaceX @Tesla @Jays200 A lot of improvement still coming just from software updates to satellites &amp; terminals\n",
            "RT @NASA: Stage separation confirmed! The @SpaceX Dragon is now floating freely and flying toward the @Space_Station with science, supplies…\n",
            "@Erdayastronaut I talked about Falcon 9 &amp; Heavy for over a decade!\n",
            "@PPathole Still kinda hard to believe it is working\n",
            "@PPathole @SpaceX Absolutely\n",
            "100th SpaceX rocket landing was today https://t.co/ysO9siYCee\n",
            "@BillyM2k Just keep going. It’s in there somewhere. https://t.co/jSLEIcXji1\n",
            "@jack m something something\n",
            "Has anyone seen web3? I can’t find it.\n",
            "@BillyM2k With Starlink, you could stream video &amp; play online games\n",
            "🤣🤣 True. Ask your airline for Starlink! https://t.co/R9GL2bKOAT\n",
            "@pbdes @JeanMarc_Nasr @esa @SpaceX Game on\n",
            "@omarsar0 👍\n",
            "@JayinShanghai Sometime in 2022\n",
            "@BillyM2k 🤣\n",
            "@imoriginalankit Maybe I’m partly Chinese!\n",
            "For those wondering, I will pay over $11 billion in taxes this year\n",
            "@lexfridman Yeah\n",
            "I’m not suggesting web3 is real – seems more marketing buzzword than reality right now – just wondering what the fu… https://t.co/I2QQGpG1Bh\n",
            "@WorldAndScience Might very well be\n",
            "Given the almost unimaginable nature of the present, what will the future be? https://t.co/b2Yw0AXGVA\n",
            "@GailAlfarATX @peterdog15 @Tesla Tesla will hold a Giga Texas grand opening party with factory tours for the community in early 2022\n",
            "@stevenmarkryan @neuralink Words are very lossy compression of thoughts\n",
            "@teslaownersSV @SpaceX Long way to go to perfect it, but Starship is really next-level\n",
            "@Erdayastronaut @SkepticsGuide Sounds like a good book\n",
            "@wintonARK It may, especially in our galaxy at this time\n",
            "Looks like twitter is compressing the image\n"
          ]
        }
      ]
    },
    {
      "cell_type": "code",
      "source": [
        "print(tweet.user.screen_name)\n",
        "print(tweet.user.location)\n",
        "print(tweet.created_at)"
      ],
      "metadata": {
        "colab": {
          "base_uri": "https://localhost:8080/"
        },
        "id": "uJrYQ2UzGKrt",
        "outputId": "3e55a992-cd58-4e40-e2e1-987d297d177e"
      },
      "execution_count": null,
      "outputs": [
        {
          "output_type": "stream",
          "name": "stdout",
          "text": [
            "elonmusk\n",
            "\n",
            "2021-12-19 19:27:37\n"
          ]
        }
      ]
    },
    {
      "cell_type": "code",
      "source": [
        ""
      ],
      "metadata": {
        "id": "5usljW8IHSdM"
      },
      "execution_count": null,
      "outputs": []
    }
  ]
}